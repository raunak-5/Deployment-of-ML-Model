{
 "cells": [
  {
   "cell_type": "code",
   "execution_count": null,
   "id": "16d5ee3a",
   "metadata": {},
   "outputs": [],
   "source": [
    "from flask import Flask, request\n",
    "from flask_cors import CORS\n",
    "import PIL\n",
    "import torch\n",
    "from torchvision import datasets, transforms, models\n",
    "from torch import nn\n",
    "from collections import OrderedDict\n"
   ]
  },
  {
   "cell_type": "code",
   "execution_count": null,
   "id": "2e371a23",
   "metadata": {},
   "outputs": [],
   "source": [
    "app = Flask(__name__)\n",
    "cors = CORS(app, resources={r\"/*\": {\"origins\": \"*\"}})"
   ]
  },
  {
   "cell_type": "code",
   "execution_count": null,
   "id": "63511e6a",
   "metadata": {},
   "outputs": [],
   "source": [
    "def load_ckpt(ckpt_path):\n",
    "    ckpt = torch.load(ckpt_path)\n",
    "\n",
    "    model = models.resnet18(pretrained=True)\n",
    "    model.fc = nn.Sequential(OrderedDict([\n",
    "        ('fc1', nn.Linear(512, 400)),\n",
    "        ('relu', nn.ReLU()),\n",
    "        ('fc2', nn.Linear(400, 2)),\n",
    "        ('output', nn.LogSoftmax(dim=1))\n",
    "    ]))\n",
    "    model.load_state_dict(ckpt, strict=False)\n",
    "    return model"
   ]
  },
  {
   "cell_type": "code",
   "execution_count": null,
   "id": "75f7acef",
   "metadata": {},
   "outputs": [],
   "source": [
    "SAVE_PATH = 'res18_10.pth'"
   ]
  },
  {
   "cell_type": "code",
   "execution_count": null,
   "id": "5a60e742",
   "metadata": {},
   "outputs": [],
   "source": [
    "model = load_ckpt(SAVE_PATH)"
   ]
  },
  {
   "cell_type": "code",
   "execution_count": null,
   "id": "8513339e",
   "metadata": {},
   "outputs": [],
   "source": [
    "test_transforms = transforms.Compose([transforms.Resize(255),\n",
    "                                      transforms.CenterCrop(224),\n",
    "                                      transforms.ToTensor(),\n",
    "                                      transforms.Normalize([0.485, 0.456, 0.406],\n",
    "                                                           [0.229, 0.224, 0.225])])\n"
   ]
  },
  {
   "cell_type": "code",
   "execution_count": null,
   "id": "9bf3cc7c",
   "metadata": {},
   "outputs": [],
   "source": [
    "def process_image(image):\n",
    "    im = PIL.Image.open(image)\n",
    "    return test_transforms(im)"
   ]
  },
  {
   "cell_type": "code",
   "execution_count": null,
   "id": "7cd4b9f5",
   "metadata": {},
   "outputs": [],
   "source": [
    "def predict(image_path, model):\n",
    "    # Predict the class of an image using a trained deep learning model.\n",
    "    model.eval()\n",
    "    img_pros = process_image(image_path)\n",
    "    img_pros = img_pros.view(1, 3, 224, 224)\n",
    "    with torch.no_grad():\n",
    "        output = model(img_pros)\n",
    "    return output\n"
   ]
  },
  {
   "cell_type": "code",
   "execution_count": null,
   "id": "65f8c0d9",
   "metadata": {},
   "outputs": [],
   "source": [
    "@app.route('/', methods=['GET'])\n",
    "def home():\n",
    "    return 'API is not running'"
   ]
  },
  {
   "cell_type": "code",
   "execution_count": null,
   "id": "f0d11e84",
   "metadata": {},
   "outputs": [],
   "source": [
    "def pred():\n",
    "    img = request.files['img']\n",
    "    ps = torch.exp(predict(img, model))\n",
    "    cls_score = int(torch.argmax(ps))\n",
    "    if cls_score == 0:\n",
    "        return 'Elephant'\n",
    "    else:\n",
    "        return 'Rhinoceros'\n"
   ]
  },
  {
   "cell_type": "code",
   "execution_count": null,
   "id": "afcfe150",
   "metadata": {},
   "outputs": [],
   "source": [
    "if __name__ == '__main__':\n",
    "    app.run(port=8000, debug=True)"
   ]
  }
 ],
 "metadata": {
  "kernelspec": {
   "display_name": "Python 3 (ipykernel)",
   "language": "python",
   "name": "python3"
  },
  "language_info": {
   "codemirror_mode": {
    "name": "ipython",
    "version": 3
   },
   "file_extension": ".py",
   "mimetype": "text/x-python",
   "name": "python",
   "nbconvert_exporter": "python",
   "pygments_lexer": "ipython3",
   "version": "3.9.12"
  }
 },
 "nbformat": 4,
 "nbformat_minor": 5
}
